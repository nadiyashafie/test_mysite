{
 "cells": [
  {
   "cell_type": "code",
   "execution_count": null,
   "id": "1379c71f",
   "metadata": {},
   "outputs": [],
   "source": [
    "print(\"task 3\")\n",
    "\n"

   ]
  }
 ],
 "metadata": {
  "language_info": {
   "name": "python"
  }
 },
 "nbformat": 4,
 "nbformat_minor": 5
}
